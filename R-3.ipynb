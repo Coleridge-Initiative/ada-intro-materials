{
 "cells": [
  {
   "cell_type": "markdown",
   "metadata": {},
   "source": [
    "# R Workbook 3: Using R with SQL\n",
    "\n",
    "In this notebook, we provide a short demonstrate of how you might use R and SQL together. Generally, you want to store and handle data using SQL, but do more sophisticated analyses in R. To utilize the benefits of both, we might start exploring and getting basic summaries using SQL (using something like DBeaver, for example), but move to R once you decide what subset you want to work with. This notebook provides the background of how that interface might happen.\n",
    "\n",
    "We'll start by bringing in packages as usual. We use the typical `tidyverse` suite of packages, as well as the `DBI` package. The latter is used to connect to the database."
   ]
  },
  {
   "cell_type": "code",
   "execution_count": null,
   "metadata": {},
   "outputs": [],
   "source": [
    "# Tidyverse includes dbplyr\n",
    "library(tidyverse)\n",
    "\n",
    "# For connection to SQL\n",
    "library(odbc)"
   ]
  },
  {
   "cell_type": "code",
   "execution_count": null,
   "metadata": {},
   "outputs": [],
   "source": [
    "# Import the file with hints and solutions\n",
    "source(\"r3_hints_and_solutions.txt\")"
   ]
  },
  {
   "cell_type": "markdown",
   "metadata": {},
   "source": [
    "## Creating a Connection\n",
    "\n",
    "The first step we take is to create a connection to the database using `dbConnect`. This will allow you to connect to the server hosting your data. The parameters in this function will vary based on connection type, database type, and database location. However, this block of code will be used to establish a connection in the ADRF any time you access data stored there.  We assign the connection to the database to the variable `con`. We will reference this object every time we interact with or query the database."
   ]
  },
  {
   "cell_type": "code",
   "execution_count": null,
   "metadata": {},
   "outputs": [],
   "source": [
    "con <- DBI::dbConnect(odbc::odbc(), \n",
    "                     Driver = \"SQL Server\", \n",
    "                     Server = \"msssql01.c7bdq4o2yhxo.us-gov-west-1.rds.amazonaws.com\",\n",
    "                     Trusted_Connection = \"True\")"
   ]
  },
  {
   "cell_type": "markdown",
   "metadata": {},
   "source": [
    "## Running Queries\n",
    "\n",
    "Our notebooks:\n",
    "\n",
    "- Run queries directly using the exact SQL code with the `dbGetQuery` function.\n"
   ]
  },
  {
   "cell_type": "markdown",
   "metadata": {},
   "source": [
    "### Using `dbGetQuery`\n",
    "\n",
    "You can run queries using the `dbGetQuery` function. This takes in as arguments the connection (which we created above as `con`), as well as a character string for the query. We are querying the database to pull out the table `lodes_ca_od_main_JT00_2015` from database and schema `ds_public_1` and schema `dbo` respectively. This particular query selects ten observations from the table we selected. "
   ]
  },
  {
   "cell_type": "code",
   "execution_count": null,
   "metadata": {},
   "outputs": [],
   "source": [
    "ca_od <- dbGetQuery(con, 'SELECT TOP 10 * FROM ds_public_1.dbo.lodes_ca_od_main_JT00_2015')"
   ]
  },
  {
   "cell_type": "code",
   "execution_count": null,
   "metadata": {},
   "outputs": [],
   "source": [
    "head(ca_od)"
   ]
  },
  {
   "cell_type": "markdown",
   "metadata": {},
   "source": [
    "## <span style=\"color:red\">Checkpoint 1: Read in Other Data</span>\n",
    "\n",
    "We've included IL LODES data to work with in the database. The table, located in the same database and schema as in the example above, is named `il_wac_S000_JT00_2015`.\n",
    "\n",
    "See if you can load the table in similarly to how you loaded the California data above. In addition, try loading in 15 records instead of 10."
   ]
  },
  {
   "cell_type": "code",
   "execution_count": null,
   "metadata": {},
   "outputs": [],
   "source": [
    "# checkpoint_1.hint()"
   ]
  },
  {
   "cell_type": "code",
   "execution_count": null,
   "metadata": {},
   "outputs": [],
   "source": [
    "# checkpoint_1.solution()"
   ]
  },
  {
   "cell_type": "code",
   "execution_count": null,
   "metadata": {},
   "outputs": [],
   "source": []
  }
 ],
 "metadata": {
  "kernelspec": {
   "display_name": "R",
   "language": "R",
   "name": "ir"
  },
  "language_info": {
   "codemirror_mode": "r",
   "file_extension": ".r",
   "mimetype": "text/x-r-source",
   "name": "R",
   "pygments_lexer": "r",
   "version": "4.0.3"
  }
 },
 "nbformat": 4,
 "nbformat_minor": 4
}
