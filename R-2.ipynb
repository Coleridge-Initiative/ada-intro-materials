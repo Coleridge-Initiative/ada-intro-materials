{
 "cells": [
  {
   "cell_type": "markdown",
   "metadata": {},
   "source": [
    "# R Workbook 2: Using Joins, aggregations, and visualizations\n",
    "\n",
    "In the previous workbook, we looked at how to read in a dataset, create a data frame, and then explore it. In this workbook, we'll explore how to join 2 data frames. In addition, we'll look at using basic visualizations."
   ]
  },
  {
   "cell_type": "markdown",
   "metadata": {},
   "source": [
    "## <span style = \"color:green\">Motivating Question</span>\n",
    "\n",
    "So far, we've gone over basic R operations such as subsetting data, describing data, and reading in CSV files. However, part of what makes R so useful is its powerful tools and functionality. There are many insights we might find from properly analyzing data using joins, aggregrations, and visualizing the reusults, so we want to be able to bring that all together. In this notebook, we'll explore how to do that as we try to answer the following questions:\n",
    "\n",
    "**What is the difference in the number of jobs by county? What are the job proportions for each county?**\n",
    "\n",
    "To answer these, we'll introduce you to joins along with aggregration functions. Finally, we'll show some basic visualizations with the data that we get to bring it all together."
   ]
  },
  {
   "cell_type": "markdown",
   "metadata": {},
   "source": [
    "## Starting Out\n",
    "As before, we'll start by loading libraries. We have a few more commands we'll be running in the beginning since we're also doing visualizations."
   ]
  },
  {
   "cell_type": "code",
   "execution_count": null,
   "metadata": {},
   "outputs": [],
   "source": [
    "library(tidyverse)\n",
    "library(dplyr)\n",
    "options(scipen = 999)\n",
    "\n",
    "# Visualization settings to make them look nicer in Jupyter\n",
    "theme_set(theme_gray(base_size = 20))\n",
    "options(repr.plot.width = 12, repr.plot.height = 9)"
   ]
  },
  {
   "cell_type": "markdown",
   "metadata": {},
   "source": [
    "Read in hints and solutions to the questions. Throughout this notebook you will see cells that contain .hint() and .solution(). You need to un-comment the line to run these cells. "
   ]
  },
  {
   "cell_type": "code",
   "execution_count": null,
   "metadata": {},
   "outputs": [],
   "source": [
    "# Import the file with hints and solutions\n",
    "source(\"r2_hints_and_solutions.txt\")"
   ]
  },
  {
   "cell_type": "markdown",
   "metadata": {},
   "source": [
    "Let's read in our datasets and take a quick glance using the `head` function. "
   ]
  },
  {
   "cell_type": "code",
   "execution_count": null,
   "metadata": {},
   "outputs": [],
   "source": [
    "ca_wac_2015 <- read.csv(\"ca_wac_S000_JT00_2015.csv\")\n",
    "ca_xwalk <- read.csv(\"ca_xwalk.csv\")\n"
   ]
  },
  {
   "cell_type": "markdown",
   "metadata": {},
   "source": [
    "To quickly explore the read in tables, try running `head()` or `glimpse()`."
   ]
  },
  {
   "cell_type": "markdown",
   "metadata": {},
   "source": [
    "## <span style=\"color:green\">Joins</span>\n",
    "\n",
    "One of the nice things about relational databases is organization using multiple tables that are linked together in some way. For example, suppose we have one table with 6 rows called **Table A**:\n",
    "\n",
    "| blockid | C000|\n",
    "|---|---|\n",
    "|1|5|\n",
    "|2|10|\n",
    "|3|2|\n",
    "|4|6|\n",
    "|5|22|\n",
    "|6|9|\n",
    "\n",
    "And another table with 5 rows called **Table B**:\n",
    "\n",
    "| blockid | CA01|\n",
    "|---|---|\n",
    "|2|2|\n",
    "|5|4|\n",
    "|6|1|\n",
    "|7|2|\n",
    "|8|0|\n",
    "\n",
    "Let's say we want to combine Table A and Table B so that we have one table that contains information about `blockid`, `C000`, and `CA01`. We want to do this by matching the two tables by what they have in common, `blockid`. That is, we want a table that looks like this (let's call this **Table C**):\n",
    "\n",
    "| blockid | C000 | CA01 |\n",
    "|---|---|---|\n",
    "|2|10|2|\n",
    "|5|22|4|\n",
    "|6|9|1|\n",
    "\n",
    "Table C has each `blockid` that was in both Table A and Table B. It also contains the appropriate values for `C000` and `CA01` corresponding to each `blockid`. This kind of matching can be quite tricky to figure out manually, since there are different numbers of rows in each table, not all of the `blockid` values match for the two tables, and there are some `blockid` values that aren't in both. Fortunately for us, R is well-equipped to handle this task using the `inner_join` statement."
   ]
  },
  {
   "cell_type": "markdown",
   "metadata": {},
   "source": [
    "### R Code and how it works\n"
   ]
  },
  {
   "cell_type": "markdown",
   "metadata": {},
   "source": [
    "Given the data we have available, when performing an `inner_join` on the WAC table to the geography crosswalk table, we would be able to determine counties or metropolitan/micropolitan areas for census block containing workplaces.\n",
    "\n",
    "Now that we have established a plan for how we're joining two tables together, let's take a look at the R code that performs this join and break it down.\n",
    "\n",
    "    df_inner_join <- inner_join(\n",
    "    ca_xwalk, ca_wac_2015, \n",
    "    by = c(\"tabblk2010\" = \"w_geocode\"))\n",
    "\n",
    "Let's look at the first two lines.\n",
    "\n",
    "    df_inner_join <- inner_join(\n",
    "    ca_xwalk, ca_wac_2015, \n",
    "\n",
    "Here, we want to create a variable called `df_inner_join` which will store the results of the inner join, then we are calling the function `inner_join`. The second line takes the `ca_xwalk` table and joins the `ca_wac_2015` table to it.\n",
    "\n",
    "We can't just mash two tables together though -- we need some way of making sure that the appropriate rows match. We do this with the third line:\n",
    "\n",
    "    by = c(\"tabblk2010\" = \"w_geocode\"))\n",
    "    \n",
    "This part specifies what we're joining on. That is, what is the ID variable that is in both tables that we want to match. Notice that they don't need to be named the same in both tables, though you do need to specify what they are in each table, even if they are the same.\n",
    "\n",
    "If you run the full code below, you should see the full results of the joined table. You should be able to scroll through all of the variables and see that we've managed to merge the `ca_wac_2015` and `ca_xwalk` tables together according to their census block IDs.\n",
    "\n",
    "> **Side note:** We're only going to be displaying a few of the columns which we can do using the `select` function. This is because we aren't able to display more than 50 columns here in this notebook format. Joining to get tables with greater than 50 columns is perfectly fine, but we'll only look at a few at a time to make it easier to follow in these exercises."
   ]
  },
  {
   "cell_type": "code",
   "execution_count": null,
   "metadata": {},
   "outputs": [],
   "source": [
    "df_inner_join <- inner_join(ca_xwalk, ca_wac_2015, by = c(\"tabblk2010\" = \"w_geocode\")) %>%\n",
    "    select (tabblk2010, C000, CA01, CA02, CA03, ctyname, cbsaname)\n",
    "    \n",
    "head(df_inner_join)"
   ]
  },
  {
   "cell_type": "markdown",
   "metadata": {},
   "source": [
    "## Checkpoint 1: Get Census Data and Join with your Tables\n",
    "\n",
    "Try joining the Residence Area Characteristics table with the Crosswalk table in a similar manner, as well as changing some of the columns to display. As you construct your query, make sure you answer the following question regarding the join:\n",
    "- What are the top 5 counties that have the most total number of jobs per residence census block? Ansewr the following questions as you write the query:\n",
    "    - What are they being joined on? That is, what is the \"ID\" variable you're matching on in each table?\n",
    "    - What information does the resulting table give you? For example, after we join the WAC table to the geography crosswalk table, we are now able to determine counties or metropolitan/micropolitan areas for census block containing workplaces.\n",
    "    > Hint: the Residence Area Characteristics table is titled `ca_rac_2015` and the Crosswalk table is titled `ca_xwalk`.\n",
    "\n"
   ]
  },
  {
   "cell_type": "markdown",
   "metadata": {},
   "source": [
    "First, run the cell below to read in the `ca_rac_2015` table."
   ]
  },
  {
   "cell_type": "code",
   "execution_count": null,
   "metadata": {},
   "outputs": [],
   "source": [
    "ca_rac_2015 <- read.csv(\"ca_rac_S000_JT00_2015.csv\")"
   ]
  },
  {
   "cell_type": "code",
   "execution_count": null,
   "metadata": {},
   "outputs": [],
   "source": [
    "# checkpoint_1.hint()"
   ]
  },
  {
   "cell_type": "code",
   "execution_count": null,
   "metadata": {},
   "outputs": [],
   "source": [
    "# checkpoint_1.solution()"
   ]
  },
  {
   "cell_type": "markdown",
   "metadata": {},
   "source": [
    "## <span style=\"color:green\">Different Types of Joins</span>\n",
    "\n",
    "We've so far done only one type of join, an inner join. However, there are different types of joins.\n",
    "\n",
    "### Left and Right Joins in R\n",
    "\n",
    "Recall our **Table A**:\n",
    "\n",
    "| blockid | C000|\n",
    "|---|---|\n",
    "|1|5|\n",
    "|2|10|\n",
    "|3|2|\n",
    "|4|6|\n",
    "|5|22|\n",
    "|6|9|\n",
    "\n",
    "And **Table B**:\n",
    "\n",
    "| blockid | CA01|\n",
    "|---|---|\n",
    "|2|2|\n",
    "|5|4|\n",
    "|6|1|\n",
    "|7|2|\n",
    "|8|0|\n",
    "\n",
    "\n",
    "Suppose we want to look at every single census block in one table, only filling in information from the second table if it exists. We'll illustrate this using Table A and Table B from before. Recall that our `inner_join` created Table C:\n",
    "\n",
    "| blockid | C000 | CA01 |\n",
    "|---|---|---|\n",
    "|2|10|2|\n",
    "|5|22|4|\n",
    "|6|9|1|\n",
    "\n",
    "Instead, we want to create the following table:\n",
    "\n",
    "| blockid | C000 | CA01 |\n",
    "|---|---|---|\n",
    "|1|5|*null*|\n",
    "|2|10|2|\n",
    "|3|2|*null*|\n",
    "|4|6|*null*|\n",
    "|5|22|4|\n",
    "|6|9|1|\n",
    "\n",
    "Here, we've kept every single row in Table A, and simply filled in the information from Table B if it existed for that `blockid`. This is called a **LEFT JOIN**, since we're taking the table on the left (that is, Table A) and adding the information from Table B onto that. We could have also done a **RIGHT JOIN**, which does the same thing, except flipping the tables, giving us something that looks like:\n",
    "\n",
    "| blockid | C000 | CA01|\n",
    "|---|---|---|\n",
    "|2|10|2|\n",
    "|5|22|4|\n",
    "|6|9|1|\n",
    "|7|*null*|2|\n",
    "|8|*null*|0|"
   ]
  },
  {
   "cell_type": "markdown",
   "metadata": {},
   "source": [
    "# Applying Left Joins\n",
    "When might you use left or right joins? Suppose you want to know which census blocks don't have any jobs. Then, we'd want to make sure that we keep all of the census blocks in the geography crosswalk, even if they aren't present in the workplace area characteristics tables, and add in the workplace area characteristics. This would mean that any blocks with an `na` value in the `C000` column would be blocks without any jobs. \n",
    "\n",
    "To do this `JOIN`, we can use the `left_join` statement."
   ]
  },
  {
   "cell_type": "code",
   "execution_count": null,
   "metadata": {},
   "outputs": [],
   "source": [
    "df_left_join <- left_join(ca_xwalk, ca_wac_2015, by = c(\"tabblk2010\" = \"w_geocode\"), keep = TRUE)  %>% \n",
    "    select (tabblk2010, w_geocode, C000, CA01, CA02, CA03, ctyname, cbsaname)\n",
    "\n",
    "head(df_left_join)"
   ]
  },
  {
   "cell_type": "markdown",
   "metadata": {},
   "source": [
    "This is very similar to what we've done already with `inner_join`, except we replace `inner_join` with `left_join`'s. When doing `left_join` and `right_join`s, make sure to keep track of which one is first. Here, `ca_xwalk` comes first, so that's the table on the \"left\" side."
   ]
  },
  {
   "cell_type": "markdown",
   "metadata": {},
   "source": [
    "### Full Join\n",
    "\n",
    "A full join keeps all unique ids, then puts `NULL` if it isn't part of that table. This is similar to a `left_join` or `right_join`, except instead of only keeping all IDs from one table, it keeps them from both tables. Consider our example with Table A and Table B. We want to join them such that we get a table that looks like:\n",
    "\n",
    "| blockid | C000 | CA01 |\n",
    "|---|---|---|\n",
    "|1|5|*null*|\n",
    "|2|10|2|\n",
    "|3|2|*null*|\n",
    "|4|6|*null*|\n",
    "|5|22|4|\n",
    "|6|9|1|\n",
    "|7|*null*|2|\n",
    "|8|*null*|0|\n",
    "\n",
    "In a way, it's like combining the `left` and `right_join`s so that we have all information from both tables.\n",
    "\n",
    "### Applying Full Joins\n",
    "\n",
    "Suppose we want to know which home and work census block contain jobs. We can use a `full_join` for that."
   ]
  },
  {
   "cell_type": "markdown",
   "metadata": {},
   "source": [
    "We need to read in the `ca_rac_S000_JT00_2015.csv` data."
   ]
  },
  {
   "cell_type": "code",
   "execution_count": null,
   "metadata": {},
   "outputs": [],
   "source": [
    "ca_rac_2015 <- read_csv(\"ca_rac_S000_JT00_2015.csv\")"
   ]
  },
  {
   "cell_type": "markdown",
   "metadata": {},
   "source": [
    "Now, we can join the two data frames."
   ]
  },
  {
   "cell_type": "code",
   "execution_count": null,
   "metadata": {},
   "outputs": [],
   "source": [
    "df_full_join <- full_join(ca_rac_2015, ca_wac_2015, by = c(\"h_geocode\" = \"w_geocode\"))  %>% \n",
    "    select (h_geocode, C000.x, C000.y, CA01.x, CA02.y, CA03.x, CFA02) \n",
    "\n",
    "head(df_full_join)\n"
   ]
  },
  {
   "cell_type": "markdown",
   "metadata": {},
   "source": [
    "This will let us see which census blocks contain values for both workplace characteristics and residence characteristics. \n",
    "> Note: R renamed the variables that are the same in both data frames. For example, `C000.x` belongs to `ca_rac_2015` and `C000.y` belongs to `ca_wac_2015`."
   ]
  },
  {
   "cell_type": "markdown",
   "metadata": {},
   "source": [
    "## Checkpoint 2 Types of Joins\n",
    "\n",
    "Consider the following situations. How would you answer the question posed? What type of join should you use for each one? Which tables do you need to join? Try doing the join.\n",
    "\n",
    "- How many census blocks in the state contain a workplace and how many don't? Recall that the geography crosswalk table contains information about the census blocks in the state.\n",
    "- Which county contains the most census blocks containing a workplace?\n",
    "- Which metropolitan/micropolitan area had the most census blocks containing a residence of a worker in the state?"
   ]
  },
  {
   "cell_type": "code",
   "execution_count": null,
   "metadata": {},
   "outputs": [],
   "source": [
    "# How many census blocks in the state contain a workplace and how many don't?\n",
    "# How many do contain a workplace?\n"
   ]
  },
  {
   "cell_type": "code",
   "execution_count": null,
   "metadata": {},
   "outputs": [],
   "source": [
    "# checkpoint_2a.hint()"
   ]
  },
  {
   "cell_type": "code",
   "execution_count": null,
   "metadata": {},
   "outputs": [],
   "source": [
    "# checkpoint_2a.solution()"
   ]
  },
  {
   "cell_type": "code",
   "execution_count": null,
   "metadata": {},
   "outputs": [],
   "source": [
    "# How many don't contain a workplace?\n"
   ]
  },
  {
   "cell_type": "code",
   "execution_count": null,
   "metadata": {},
   "outputs": [],
   "source": [
    "# checkpoint_2b.hint()"
   ]
  },
  {
   "cell_type": "code",
   "execution_count": null,
   "metadata": {},
   "outputs": [],
   "source": [
    "# checkpoint_2b.solution()"
   ]
  },
  {
   "cell_type": "code",
   "execution_count": null,
   "metadata": {},
   "outputs": [],
   "source": [
    "# which county contains the most census blocks containing a workplace?\n"
   ]
  },
  {
   "cell_type": "code",
   "execution_count": null,
   "metadata": {},
   "outputs": [],
   "source": [
    "# checkpoint_2c.hint()"
   ]
  },
  {
   "cell_type": "code",
   "execution_count": null,
   "metadata": {},
   "outputs": [],
   "source": [
    "# checkpoint_2c.solution()"
   ]
  },
  {
   "cell_type": "code",
   "execution_count": null,
   "metadata": {},
   "outputs": [],
   "source": [
    "# Which metropolitan/micropolitan area had the most census blocks containing a residence of a worker in the state?\n"
   ]
  },
  {
   "cell_type": "code",
   "execution_count": null,
   "metadata": {},
   "outputs": [],
   "source": [
    "# checkpoint_2d.hint()"
   ]
  },
  {
   "cell_type": "code",
   "execution_count": null,
   "metadata": {},
   "outputs": [],
   "source": [
    "# checkpoint_2d.solution()"
   ]
  },
  {
   "cell_type": "markdown",
   "metadata": {},
   "source": [
    "## Basic Aggregrations"
   ]
  },
  {
   "cell_type": "markdown",
   "metadata": {},
   "source": [
    "Let's count the total number of census blocks within each county that do no have jobs. We can do this using the `df_left_join` table."
   ]
  },
  {
   "cell_type": "code",
   "execution_count": null,
   "metadata": {},
   "outputs": [],
   "source": [
    "total_na_jobs_by_county <- df_left_join %>%\n",
    "    group_by(ctyname) %>%\n",
    "    summarize(\n",
    "        total_missing_jobs = sum(is.na(C000))\n",
    "    ) %>%\n",
    "    ungroup() %>% \n",
    "    arrange(desc(total_missing_jobs))\n",
    "\n",
    "head(total_na_jobs_by_county)"
   ]
  },
  {
   "cell_type": "markdown",
   "metadata": {},
   "source": [
    "Lets figure out how many jobs are in each county. The first thing we want to do is `group_by` `ctyname`. Then we want to use the `summarize` function to sum the total number jobs in the `C000` column. Finally, we need to use the `ungroup()` function because if we don't, future calculations will likely produce errors.  "
   ]
  },
  {
   "cell_type": "code",
   "execution_count": null,
   "metadata": {},
   "outputs": [],
   "source": [
    "total_jobs_by_county <- df_inner_join %>%\n",
    "    group_by(ctyname) %>%\n",
    "    summarize(\n",
    "        total_jobs = sum(C000)\n",
    "    ) %>%\n",
    "    ungroup()  %>%\n",
    "    arrange(desc(total_jobs))\n",
    "\n",
    "head(total_jobs_by_county)"
   ]
  },
  {
   "cell_type": "markdown",
   "metadata": {},
   "source": [
    "Now that we have total amount of jobs by county, let's calculate the proportion of jobs by county and then order them in descending order. This can be accomplished by taking the existing data frame `total_jobs_by_county` then using the `arrange()` function to order the variable `total_jobs`. Then, we can use the `mutate()` function to add a column called `prop` and setting that equal to `total_jobs` divided by the sum of `total_jobs`. I multiplied the results by 100 to get the percentage."
   ]
  },
  {
   "cell_type": "code",
   "execution_count": null,
   "metadata": {},
   "outputs": [],
   "source": [
    "total_jobs_prop <- total_jobs_by_county %>%\n",
    "    arrange(desc(total_jobs)) %>%\n",
    "    mutate(\n",
    "        prop = total_jobs/sum(total_jobs)*100) \n",
    "head(total_jobs_prop)"
   ]
  },
  {
   "cell_type": "markdown",
   "metadata": {},
   "source": [
    "## <font color = 'green'>Visualizations using `qplot`</font>\n",
    "    \n",
    "Visualizations can help us look at summaries of the data. They can also aid in providing good presentation aids.\n",
    "\n",
    "In this section, we'll look at a few basic types of visualizations: histograms and scatterplots. In practice, there are many more types of visualizations. Furthermore, there are many different packages that can help you create these different visualizations. While we'll focus only on the basics here with the base R functions as well as `qplot` from the `ggplot2` package, keep in mind that there are many tools available."
   ]
  },
  {
   "cell_type": "markdown",
   "metadata": {},
   "source": [
    "### Making a Histogram\n",
    "We'll start with a basic histogram. A histogram is useful for looking at the distribution of a numerical variable (that is, a variable that takes numbers as its values as opposed to categories). They can visually represent the spread and center of the variable, as well as provide insights to the shape of the distribution. For example, we can look at the number of **modes**, or peaks, in the data, which wouldn't be captured in numerical summaries such as mean or variance. We can also get a better idea of the **skew** of the data, determining whether most units are grouped on the left or right side (lower or higher values), or whether it's mostly symmetrical. \n",
    "\n",
    "We'll first look at the simplest way to make a graph, then show how to customize it using the plotting parameters as well as Figure and Axes objects. Let's look at a histogram of the total number of jobs by county in the 2015 Workplace Area Characteristics for California."
   ]
  },
  {
   "cell_type": "code",
   "execution_count": null,
   "metadata": {},
   "outputs": [],
   "source": [
    "qplot(total_jobs_prop$total_jobs, xlim = c(0,2000000), ylim = c(0,13))"
   ]
  },
  {
   "cell_type": "markdown",
   "metadata": {},
   "source": [
    "The resulting histogram show the data are skewed right which means that the mean is greater than the median. This occurs because data skewed to the right have a few large values that increase the mean  but do not affect where the the median is. We can confirm that the mean is greater than the median by running the following code:"
   ]
  },
  {
   "cell_type": "code",
   "execution_count": null,
   "metadata": {},
   "outputs": [],
   "source": [
    "mean(total_jobs_prop$total_jobs) > median(total_jobs_prop$total_jobs)"
   ]
  },
  {
   "cell_type": "markdown",
   "metadata": {},
   "source": [
    "### Making a Scatterplot\n",
    "\n",
    "When looking at two numerical variables to see if there is a correlation, we might want to use a scatterplot to visualize them. We can simply use the base R `qplot` function as before, passing it the x and y variables as the arguments. \n",
    "\n",
    "Let's look at an example looking at the relationship between number of jobs for two different age groups."
   ]
  },
  {
   "cell_type": "code",
   "execution_count": null,
   "metadata": {},
   "outputs": [],
   "source": [
    "qplot(df_inner_join$CA01, df_inner_join$CA02)"
   ]
  },
  {
   "cell_type": "markdown",
   "metadata": {},
   "source": [
    "## Checkpoint 3: Visualize Your Datas\n",
    "\n",
    "Using the methods we've described above, try visualizing data from a different state. What do the visualizations tell you? How are they different from the data from California? How are they the same? Does this make sense?"
   ]
  },
  {
   "cell_type": "code",
   "execution_count": null,
   "metadata": {},
   "outputs": [],
   "source": [
    "# First, read in IL data.\n",
    "il_data <- read_csv(\"il_wac_S000_JT00_2015.csv\")\n"
   ]
  },
  {
   "cell_type": "code",
   "execution_count": null,
   "metadata": {},
   "outputs": [],
   "source": [
    "# checkpoint_3.hint()"
   ]
  },
  {
   "cell_type": "code",
   "execution_count": null,
   "metadata": {},
   "outputs": [],
   "source": [
    "# checkpoint_3.solution()"
   ]
  },
  {
   "cell_type": "markdown",
   "metadata": {},
   "source": [
    "# Resources\n",
    "Understanding Joins"
   ]
  },
  {
   "cell_type": "markdown",
   "metadata": {},
   "source": [
    "<center> <img style=\"float: center;\" src=\"join-venn.png\" width=1000>\n"
   ]
  },
  {
   "cell_type": "markdown",
   "metadata": {},
   "source": [
    "<center> <img style=\"float: center;\" src=\"joins.png\" width=\"700\">\n"
   ]
  },
  {
   "cell_type": "code",
   "execution_count": null,
   "metadata": {},
   "outputs": [],
   "source": []
  }
 ],
 "metadata": {
  "kernelspec": {
   "display_name": "R",
   "language": "R",
   "name": "ir"
  },
  "language_info": {
   "codemirror_mode": "r",
   "file_extension": ".r",
   "mimetype": "text/x-r-source",
   "name": "R",
   "pygments_lexer": "r",
   "version": "4.0.3"
  }
 },
 "nbformat": 4,
 "nbformat_minor": 5
}
